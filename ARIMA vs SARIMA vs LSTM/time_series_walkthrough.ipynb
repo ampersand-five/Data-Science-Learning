{
 "cells": [
  {
   "cell_type": "markdown",
   "metadata": {},
   "source": [
    "From from this article: [Time Series — ARIMA vs. SARIMA vs. LSTM: Hands-On Tutorial](https://towardsdatascience.com/time-series-arima-vs-sarima-vs-lstm-hands-on-tutorial-bd5630298da3)"
   ]
  },
  {
   "cell_type": "markdown",
   "metadata": {},
   "source": [
    "First we want to start off with downloading the data. It can be had from [here](https://archive.ics.uci.edu/dataset/360/air+quality). It's around 1 MB."
   ]
  },
  {
   "cell_type": "code",
   "execution_count": null,
   "metadata": {},
   "outputs": [],
   "source": [
    "# import libraries\n",
    "import pandas as pd\n",
    "import numpy as np\n",
    "\n",
    "from ucimlrepo import fetch_ucirepo\n",
    "\n",
    "# Fetch dataset\n",
    "air_quality = fetch_ucirepo(id=360)"
   ]
  },
  {
   "cell_type": "markdown",
   "metadata": {},
   "source": [
    "Get the data from the data set.\n",
    "\n",
    "Same thing with many names:\n",
    "- Features, X, input variables, independent variables\n",
    "- Targets, y, output variables, dependent variables"
   ]
  },
  {
   "cell_type": "code",
   "execution_count": null,
   "metadata": {},
   "outputs": [],
   "source": [
    "# Data (as pandas dataframe)\n",
    "air_quality_df = air_quality.data.features\n",
    "air_quality_df.head()"
   ]
  },
  {
   "cell_type": "markdown",
   "metadata": {},
   "source": [
    "Explore the data a bit."
   ]
  },
  {
   "cell_type": "code",
   "execution_count": null,
   "metadata": {},
   "outputs": [],
   "source": [
    "air_quality_df.info()"
   ]
  },
  {
   "cell_type": "markdown",
   "metadata": {},
   "source": [
    "See statistics of the data."
   ]
  },
  {
   "cell_type": "code",
   "execution_count": null,
   "metadata": {},
   "outputs": [],
   "source": [
    "air_quality_df.describe()"
   ]
  },
  {
   "cell_type": "markdown",
   "metadata": {},
   "source": [
    "From the documentation for this data: Missing values are tagged with -200 value. Let's\n",
    "see how many are -200 in each column. This can give us an idea of how to handle them."
   ]
  },
  {
   "cell_type": "code",
   "execution_count": null,
   "metadata": {},
   "outputs": [],
   "source": [
    "# Do an element wise comparison on all values, then sum up for each column.\n",
    "missing_values_count = (air_quality_df == -200).sum()\n",
    "missing_values_count"
   ]
  },
  {
   "cell_type": "markdown",
   "metadata": {},
   "source": [
    "This is great! We see how many values are effectively null. Let's get a percentage too\n",
    "so we can see for each column what the percentage of null (-200) there is."
   ]
  },
  {
   "cell_type": "code",
   "execution_count": null,
   "metadata": {},
   "outputs": [],
   "source": [
    "# Calculate the percentage of missing values for each column. Rount to whole int\n",
    "missing_values_percentage = ((missing_values_count / len(air_quality_df)) * 100).round().astype(int)\n",
    "missing_values_percentage"
   ]
  },
  {
   "cell_type": "markdown",
   "metadata": {},
   "source": [
    "<!--TODO on second pass: For the readings, let's use the average value of the column to fill in the missing values. -->\n",
    "## Feature Engineering\n",
    "We'll handle missing values by dropping them."
   ]
  },
  {
   "cell_type": "code",
   "execution_count": null,
   "metadata": {},
   "outputs": [],
   "source": [
    "# Show column count and row count for before and after dropping missing values\n",
    "air_quality_df.shape"
   ]
  },
  {
   "cell_type": "code",
   "execution_count": null,
   "metadata": {},
   "outputs": [],
   "source": [
    "# Replace missing values and drop unnecessary columns.\n",
    "\n",
    "# Replace -200 with NaN\n",
    "air_quality_df.replace(-200, np.nan, inplace=True)\n",
    "# Drop columns where all values are NaN\n",
    "# - axis=1 means columns, how='all' means only drop if all values in the column are NaN\n",
    "air_quality_df.dropna(axis=1, how='all', inplace=True)\n",
    "air_quality_df.shape\n"
   ]
  },
  {
   "cell_type": "code",
   "execution_count": null,
   "metadata": {},
   "outputs": [],
   "source": [
    "# Drop any rows with missing values.\n",
    "air_quality_df.dropna(inplace=True)\n",
    "air_quality_df.shape"
   ]
  },
  {
   "cell_type": "markdown",
   "metadata": {},
   "source": [
    "Not great, we lost most the data set. I don't like how the tutorial handled this.\n",
    "I think we can do better. TODO: come back to this"
   ]
  },
  {
   "cell_type": "markdown",
   "metadata": {},
   "source": [
    "Now let's combine the Date and Time columns into a single datetime column."
   ]
  },
  {
   "cell_type": "code",
   "execution_count": null,
   "metadata": {},
   "outputs": [],
   "source": [
    "# Combine Date and Time columns into a single datetime column\n",
    "air_quality_df['DateTime'] = pd.to_datetime(air_quality_df['Date'] + ' ' + air_quality_df['Time'])\n",
    "air_quality_df.head()"
   ]
  },
  {
   "cell_type": "markdown",
   "metadata": {},
   "source": [
    "We can set the new datetime column as the index since we're working with time series\n",
    "data, then sort the data by the index.\n",
    "Note 💡: Inplace is more memory efficient than having it return one and then re-assigning\n",
    "it back to the variable."
   ]
  },
  {
   "cell_type": "code",
   "execution_count": null,
   "metadata": {},
   "outputs": [],
   "source": [
    "air_quality_df.set_index('DateTime', inplace=True)\n",
    "air_quality_df.sort_index(inplace=True)"
   ]
  },
  {
   "cell_type": "markdown",
   "metadata": {},
   "source": [
    "The tutorial picks Nox(GT) as the target variable without a reason why, so we'll use\n",
    "that too, but don't ask me why. 😅"
   ]
  },
  {
   "cell_type": "code",
   "execution_count": null,
   "metadata": {},
   "outputs": [],
   "source": [
    "# Grab the target column.\n",
    "# Note 💡: This also grabs the index column, so you'll have a df with two columns.\n",
    "target = air_quality_df['NOx(GT)']\n",
    "target.head()"
   ]
  },
  {
   "cell_type": "markdown",
   "metadata": {},
   "source": [
    "### Visualize\n",
    "Let's visualize the data to see what we're working with. Visualizing is great. Always\n",
    "visualize. 📊"
   ]
  },
  {
   "cell_type": "code",
   "execution_count": null,
   "metadata": {},
   "outputs": [],
   "source": [
    "import matplotlib.pyplot as plt\n",
    "\n",
    "plt.figure(figsize=(12, 6))\n",
    "plt.plot(target)\n",
    "plt.title('Hourly NOx(GT) Levels')\n",
    "plt.xlabel('Date')\n",
    "plt.ylabel('NOx(GT) Concentration')\n",
    "plt.show()\n",
    "\n"
   ]
  }
 ],
 "metadata": {
  "kernelspec": {
   "display_name": "Python 3",
   "language": "python",
   "name": "python3"
  },
  "language_info": {
   "codemirror_mode": {
    "name": "ipython",
    "version": 3
   },
   "file_extension": ".py",
   "mimetype": "text/x-python",
   "name": "python",
   "nbconvert_exporter": "python",
   "pygments_lexer": "ipython3",
   "version": "3.12.7"
  }
 },
 "nbformat": 4,
 "nbformat_minor": 2
}
